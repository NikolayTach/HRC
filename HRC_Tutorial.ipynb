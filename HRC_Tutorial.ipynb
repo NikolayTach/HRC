{
  "nbformat": 4,
  "nbformat_minor": 0,
  "metadata": {
    "colab": {
      "name": "HRC Tutorial.ipynb",
      "provenance": [],
      "collapsed_sections": [],
      "authorship_tag": "ABX9TyP4LbTOaqsYWjZwPFs5j7tv",
      "include_colab_link": true
    },
    "kernelspec": {
      "name": "python3",
      "display_name": "Python 3"
    },
    "language_info": {
      "name": "python"
    }
  },
  "cells": [
    {
      "cell_type": "markdown",
      "metadata": {
        "id": "view-in-github",
        "colab_type": "text"
      },
      "source": [
        "<a href=\"https://colab.research.google.com/github/shreesowndarya/HRC/blob/main/HRC_Tutorial.ipynb\" target=\"_parent\"><img src=\"https://colab.research.google.com/assets/colab-badge.svg\" alt=\"Open In Colab\"/></a>"
      ]
    },
    {
      "cell_type": "markdown",
      "source": [
        "# HRC Tutorial on nfp and GNNs\n",
        "\n",
        "11th August 2022\n",
        "\n",
        "Shree Sowndarya S V\n",
        "\n",
        "This collab can be run remoting using google's computing resources as well as on local machines. Most of the comments would remain the same aside for enviroment setup i.e., the installation of software blocks."
      ],
      "metadata": {
        "id": "y-v6LZYq7Oed"
      }
    },
    {
      "cell_type": "markdown",
      "source": [
        "# Necessary packages to install for this code to run\n",
        "\n",
        "*   Step 1: PIP installation of necessary packages\n"
      ],
      "metadata": {
        "id": "rRfiYsry0GK6"
      }
    },
    {
      "cell_type": "code",
      "source": [
        "%%time\n",
        "#install nfp\n",
        "!pip install nfp rdkit-pypi > logpip.txt"
      ],
      "metadata": {
        "id": "bT7BNen82TVB",
        "colab": {
          "base_uri": "https://localhost:8080/"
        },
        "outputId": "da6c0111-f0ce-48c0-ac6a-40806527b063"
      },
      "execution_count": 1,
      "outputs": [
        {
          "output_type": "stream",
          "name": "stdout",
          "text": [
            "CPU times: user 66.3 ms, sys: 14.4 ms, total: 80.7 ms\n",
            "Wall time: 11.1 s\n"
          ]
        }
      ]
    },
    {
      "cell_type": "markdown",
      "source": [
        "# Necessary datasets we would be working with \n",
        "\n",
        "*   Step 1: Loading the dataset from github\n",
        "*   Step 2: Split the data for train and test\n"
      ],
      "metadata": {
        "id": "Gu6TpnqD_ve9"
      }
    },
    {
      "cell_type": "code",
      "source": [
        "# Step 1: Loading the dataset from github\n",
        "import pandas as pd\n",
        "url = 'https://raw.githubusercontent.com/shreesowndarya/HRC/main/reduced_radical_db_redox_potentials.csv'\n",
        "data = pd.read_csv(url)\n",
        "data.head()"
      ],
      "metadata": {
        "colab": {
          "base_uri": "https://localhost:8080/",
          "height": 204
        },
        "id": "90l83vTM_ufB",
        "outputId": "5001b407-de06-4a9d-c9fc-4190b9a9cf3f"
      },
      "execution_count": 4,
      "outputs": [
        {
          "output_type": "execute_result",
          "data": {
            "text/plain": [
              "               smiles  oxidation  reduction\n",
              "0       C[C](CO)CCC#N   0.027999  -1.660134\n",
              "1     CC1=CC[C](O)CC1  -0.770340  -1.920379\n",
              "2       C=CCCC[CH]CCN   0.231808  -1.867590\n",
              "3        C[C](C)NCCCN  -1.777168  -2.273575\n",
              "4  [CH2]O/C=C/C(=O)OC   0.374692  -1.128816"
            ],
            "text/html": [
              "\n",
              "  <div id=\"df-4243a574-773f-433e-9602-b89afa792c06\">\n",
              "    <div class=\"colab-df-container\">\n",
              "      <div>\n",
              "<style scoped>\n",
              "    .dataframe tbody tr th:only-of-type {\n",
              "        vertical-align: middle;\n",
              "    }\n",
              "\n",
              "    .dataframe tbody tr th {\n",
              "        vertical-align: top;\n",
              "    }\n",
              "\n",
              "    .dataframe thead th {\n",
              "        text-align: right;\n",
              "    }\n",
              "</style>\n",
              "<table border=\"1\" class=\"dataframe\">\n",
              "  <thead>\n",
              "    <tr style=\"text-align: right;\">\n",
              "      <th></th>\n",
              "      <th>smiles</th>\n",
              "      <th>oxidation</th>\n",
              "      <th>reduction</th>\n",
              "    </tr>\n",
              "  </thead>\n",
              "  <tbody>\n",
              "    <tr>\n",
              "      <th>0</th>\n",
              "      <td>C[C](CO)CCC#N</td>\n",
              "      <td>0.027999</td>\n",
              "      <td>-1.660134</td>\n",
              "    </tr>\n",
              "    <tr>\n",
              "      <th>1</th>\n",
              "      <td>CC1=CC[C](O)CC1</td>\n",
              "      <td>-0.770340</td>\n",
              "      <td>-1.920379</td>\n",
              "    </tr>\n",
              "    <tr>\n",
              "      <th>2</th>\n",
              "      <td>C=CCCC[CH]CCN</td>\n",
              "      <td>0.231808</td>\n",
              "      <td>-1.867590</td>\n",
              "    </tr>\n",
              "    <tr>\n",
              "      <th>3</th>\n",
              "      <td>C[C](C)NCCCN</td>\n",
              "      <td>-1.777168</td>\n",
              "      <td>-2.273575</td>\n",
              "    </tr>\n",
              "    <tr>\n",
              "      <th>4</th>\n",
              "      <td>[CH2]O/C=C/C(=O)OC</td>\n",
              "      <td>0.374692</td>\n",
              "      <td>-1.128816</td>\n",
              "    </tr>\n",
              "  </tbody>\n",
              "</table>\n",
              "</div>\n",
              "      <button class=\"colab-df-convert\" onclick=\"convertToInteractive('df-4243a574-773f-433e-9602-b89afa792c06')\"\n",
              "              title=\"Convert this dataframe to an interactive table.\"\n",
              "              style=\"display:none;\">\n",
              "        \n",
              "  <svg xmlns=\"http://www.w3.org/2000/svg\" height=\"24px\"viewBox=\"0 0 24 24\"\n",
              "       width=\"24px\">\n",
              "    <path d=\"M0 0h24v24H0V0z\" fill=\"none\"/>\n",
              "    <path d=\"M18.56 5.44l.94 2.06.94-2.06 2.06-.94-2.06-.94-.94-2.06-.94 2.06-2.06.94zm-11 1L8.5 8.5l.94-2.06 2.06-.94-2.06-.94L8.5 2.5l-.94 2.06-2.06.94zm10 10l.94 2.06.94-2.06 2.06-.94-2.06-.94-.94-2.06-.94 2.06-2.06.94z\"/><path d=\"M17.41 7.96l-1.37-1.37c-.4-.4-.92-.59-1.43-.59-.52 0-1.04.2-1.43.59L10.3 9.45l-7.72 7.72c-.78.78-.78 2.05 0 2.83L4 21.41c.39.39.9.59 1.41.59.51 0 1.02-.2 1.41-.59l7.78-7.78 2.81-2.81c.8-.78.8-2.07 0-2.86zM5.41 20L4 18.59l7.72-7.72 1.47 1.35L5.41 20z\"/>\n",
              "  </svg>\n",
              "      </button>\n",
              "      \n",
              "  <style>\n",
              "    .colab-df-container {\n",
              "      display:flex;\n",
              "      flex-wrap:wrap;\n",
              "      gap: 12px;\n",
              "    }\n",
              "\n",
              "    .colab-df-convert {\n",
              "      background-color: #E8F0FE;\n",
              "      border: none;\n",
              "      border-radius: 50%;\n",
              "      cursor: pointer;\n",
              "      display: none;\n",
              "      fill: #1967D2;\n",
              "      height: 32px;\n",
              "      padding: 0 0 0 0;\n",
              "      width: 32px;\n",
              "    }\n",
              "\n",
              "    .colab-df-convert:hover {\n",
              "      background-color: #E2EBFA;\n",
              "      box-shadow: 0px 1px 2px rgba(60, 64, 67, 0.3), 0px 1px 3px 1px rgba(60, 64, 67, 0.15);\n",
              "      fill: #174EA6;\n",
              "    }\n",
              "\n",
              "    [theme=dark] .colab-df-convert {\n",
              "      background-color: #3B4455;\n",
              "      fill: #D2E3FC;\n",
              "    }\n",
              "\n",
              "    [theme=dark] .colab-df-convert:hover {\n",
              "      background-color: #434B5C;\n",
              "      box-shadow: 0px 1px 3px 1px rgba(0, 0, 0, 0.15);\n",
              "      filter: drop-shadow(0px 1px 2px rgba(0, 0, 0, 0.3));\n",
              "      fill: #FFFFFF;\n",
              "    }\n",
              "  </style>\n",
              "\n",
              "      <script>\n",
              "        const buttonEl =\n",
              "          document.querySelector('#df-4243a574-773f-433e-9602-b89afa792c06 button.colab-df-convert');\n",
              "        buttonEl.style.display =\n",
              "          google.colab.kernel.accessAllowed ? 'block' : 'none';\n",
              "\n",
              "        async function convertToInteractive(key) {\n",
              "          const element = document.querySelector('#df-4243a574-773f-433e-9602-b89afa792c06');\n",
              "          const dataTable =\n",
              "            await google.colab.kernel.invokeFunction('convertToInteractive',\n",
              "                                                     [key], {});\n",
              "          if (!dataTable) return;\n",
              "\n",
              "          const docLinkHtml = 'Like what you see? Visit the ' +\n",
              "            '<a target=\"_blank\" href=https://colab.research.google.com/notebooks/data_table.ipynb>data table notebook</a>'\n",
              "            + ' to learn more about interactive tables.';\n",
              "          element.innerHTML = '';\n",
              "          dataTable['output_type'] = 'display_data';\n",
              "          await google.colab.output.renderOutput(dataTable, element);\n",
              "          const docLink = document.createElement('div');\n",
              "          docLink.innerHTML = docLinkHtml;\n",
              "          element.appendChild(docLink);\n",
              "        }\n",
              "      </script>\n",
              "    </div>\n",
              "  </div>\n",
              "  "
            ]
          },
          "metadata": {},
          "execution_count": 4
        }
      ]
    },
    {
      "cell_type": "code",
      "source": [
        "# Step 2: Split the data for train and test\n",
        "import numpy as np\n",
        "valid, test, train = np.split(data.smiles.sample(frac=1., random_state=1), [100, 200])\n",
        "print('Training Set:', len(train))\n",
        "print('Validation Set:' , len(valid))\n",
        "print('Testing Set:' , len(test))"
      ],
      "metadata": {
        "colab": {
          "base_uri": "https://localhost:8080/"
        },
        "id": "wlejxYTfApk-",
        "outputId": "729331b2-a565-4ad2-da55-45ce41d5857f"
      },
      "execution_count": 5,
      "outputs": [
        {
          "output_type": "stream",
          "name": "stdout",
          "text": [
            "Training Set: 2097\n",
            "Validation Set: 100\n",
            "Testing Set: 100\n"
          ]
        }
      ]
    },
    {
      "cell_type": "markdown",
      "source": [
        "# nfp example\n",
        "\n",
        "*   Step 1: Import nfp for processing smiles to graphs\n",
        "*   Step 2: Define the kind of features we are using for atoms and bonds in the molecule\n",
        "*   Step 3: Example showing the features utilized for atoms and bonds\n",
        "*   Step 4: create a nfp graph processor using the feature we need\n",
        "*   Step 5: Example of graphical inputs for SMILES - 'CCO'\n",
        "*   Step 6: Graphical inputs for a dataset of SMILES- What do the numbers mean?"
      ],
      "metadata": {
        "id": "B0p1aybt5FEb"
      }
    },
    {
      "cell_type": "code",
      "source": [
        "# Step 1:\n",
        "from nfp.preprocessing.mol_preprocessor import SmilesPreprocessor\n",
        "from nfp.preprocessing.features import get_ring_size"
      ],
      "metadata": {
        "id": "1XRIoSG05WvV"
      },
      "execution_count": 6,
      "outputs": []
    },
    {
      "cell_type": "code",
      "source": [
        "# Step 2: Definition the kind of features we are using for atoms and bonds in the molecule\n",
        "def atom_featurizer(atom):\n",
        "    \"\"\" Return a string representing the atom type \n",
        "    \n",
        "    returns [symbol, is_aromatic, ring_size, degree, total_num_Hs]\n",
        "    \"\"\"\n",
        "\n",
        "    return str((\n",
        "        atom.GetSymbol(),\n",
        "        atom.GetIsAromatic(),\n",
        "        get_ring_size(atom, max_size=6),\n",
        "        atom.GetDegree(),\n",
        "        atom.GetTotalNumHs(includeNeighbors=True)\n",
        "    ))\n",
        "\n",
        "def bond_featurizer(bond, flipped=False):\n",
        "    \"\"\" Get a similar classification of the bond type.\n",
        "    Flipped indicates which 'direction' the bond edge is pointing.\n",
        "\n",
        "    returns [atoms_in_bond, bond_type, ring_size]\n",
        "    \"\"\"\n",
        "    \n",
        "    if not flipped:\n",
        "        atoms = \"{}-{}\".format(\n",
        "            *tuple((bond.GetBeginAtom().GetSymbol(),\n",
        "                    bond.GetEndAtom().GetSymbol())))\n",
        "    else:\n",
        "        atoms = \"{}-{}\".format(\n",
        "            *tuple((bond.GetEndAtom().GetSymbol(),\n",
        "                    bond.GetBeginAtom().GetSymbol())))\n",
        "    \n",
        "    btype = str(bond.GetBondType())\n",
        "    ring = 'R{}'.format(get_ring_size(bond, max_size=6)) if bond.IsInRing() else ''\n",
        "    \n",
        "    return \" \".join([atoms, btype, ring]).strip()"
      ],
      "metadata": {
        "id": "AIyMz96M6QjF"
      },
      "execution_count": 7,
      "outputs": []
    },
    {
      "cell_type": "code",
      "source": [
        "# Step 3: Example showing the features utilized for atoms and bonds\n",
        "from rdkit import Chem\n",
        "\n",
        "smiles = 'CCO'\n",
        "mol = Chem.MolFromSmiles(smiles)\n",
        "print('Atom features:', atom_featurizer(mol.GetAtoms()[0]))\n",
        "print('Bond features:', bond_featurizer(mol.GetBonds()[1]))"
      ],
      "metadata": {
        "colab": {
          "base_uri": "https://localhost:8080/"
        },
        "id": "F7Izfnsg-jdM",
        "outputId": "d360621a-89d8-46d3-f2a5-ed50623011c3"
      },
      "execution_count": 8,
      "outputs": [
        {
          "output_type": "stream",
          "name": "stdout",
          "text": [
            "Atom features: ('C', False, 0, 1, 3)\n",
            "Bond features: C-O SINGLE\n"
          ]
        }
      ]
    },
    {
      "cell_type": "code",
      "source": [
        "# Step 4: create a nfp graph processor using the feature we need\n",
        "preprocessor = SmilesPreprocessor(atom_features=atom_featurizer, bond_features=bond_featurizer, explicit_hs=False)"
      ],
      "metadata": {
        "id": "q_jIUDfx9yiD"
      },
      "execution_count": 9,
      "outputs": []
    },
    {
      "cell_type": "code",
      "source": [
        "# Step 5: Example of graphical inputs for SMILES - 'CCO'\n",
        "print('Atoms Classes:', preprocessor(smiles, train=True)['atom']) # Atom types, as integer classes\n",
        "print('Bond Classes:', preprocessor(smiles, train=True)['bond']) # Bond types, as integer classes\n",
        "print('Connectivity:', preprocessor(smiles, train=True)['connectivity']) # A connectivity array, where row i indicates bond i connects atom j to atom k"
      ],
      "metadata": {
        "colab": {
          "base_uri": "https://localhost:8080/"
        },
        "id": "Oj6Y8IMQ94iL",
        "outputId": "c0655065-fc01-4638-8930-378fb7469074"
      },
      "execution_count": 10,
      "outputs": [
        {
          "output_type": "stream",
          "name": "stdout",
          "text": [
            "Atoms Classes: [2 3 4]\n",
            "Bond Classes: [2 2 3 4]\n",
            "Connectivity: [[0 1]\n",
            " [1 0]\n",
            " [1 2]\n",
            " [2 1]]\n"
          ]
        }
      ]
    },
    {
      "cell_type": "code",
      "source": [
        "# Step 6: Graphical inputs for a dataset of SMILES - What do the numbers mean?\n",
        "for smiles in data.smiles: \n",
        "  preprocessor(smiles, train=True)\n",
        "\n",
        "print('Atom data types: \\n', pd.Series(preprocessor.atom_tokenizer._data))\n",
        "print('\\nBond data types: \\n', pd.Series(preprocessor.bond_tokenizer._data))"
      ],
      "metadata": {
        "colab": {
          "base_uri": "https://localhost:8080/"
        },
        "id": "tqXVyWonDpqV",
        "outputId": "bcebebd4-b16c-4a67-e30f-a1051a6db0d1"
      },
      "execution_count": 11,
      "outputs": [
        {
          "output_type": "stream",
          "name": "stdout",
          "text": [
            "Atom data types: \n",
            " unk                           1\n",
            "('C', False, 0, 1, 3)         2\n",
            "('C', False, 0, 2, 2)         3\n",
            "('O', False, 0, 1, 1)         4\n",
            "('C', False, 0, 3, 0)         5\n",
            "                             ..\n",
            "('S', False, 'max', 3, 0)    88\n",
            "('S', False, 3, 2, 0)        89\n",
            "('S', False, 4, 2, 0)        90\n",
            "('C', True, 3, 3, 0)         91\n",
            "('N', False, 3, 4, 0)        92\n",
            "Length: 92, dtype: int64\n",
            "\n",
            "Bond data types: \n",
            " unk                  1\n",
            "C-C SINGLE           2\n",
            "C-O SINGLE           3\n",
            "O-C SINGLE           4\n",
            "C-N TRIPLE           5\n",
            "                  ... \n",
            "O-S SINGLE R5      116\n",
            "S-O SINGLE R5      117\n",
            "N-N DOUBLE R3      118\n",
            "C-C TRIPLE Rmax    119\n",
            "C-C AROMATIC R3    120\n",
            "Length: 120, dtype: int64\n"
          ]
        }
      ]
    },
    {
      "cell_type": "markdown",
      "source": [
        "# Building Graph Neural Networks (GNNs)\n",
        "\n",
        "*   Step 1: Convert the graphs into tensorflow syntax for builing GNN - Here we are considering only Oxidation to keep things simple\n",
        "*   Step 2: Define the neural network model \n",
        "*   Step 3: Compile and construct the GNNs"
      ],
      "metadata": {
        "id": "4WuI7hlg4Ebb"
      }
    },
    {
      "cell_type": "code",
      "source": [
        "# Step 1: Convert the graphs into tensorflow syntax for builing GNN\n",
        "import tensorflow as tf\n",
        "\n",
        "train_dataset = tf.data.Dataset.from_generator(\n",
        "    lambda: ((preprocessor(row.smiles, train=True), row['oxidation'])\n",
        "            for i, row in data[data.smiles.isin(train)].iterrows()),\n",
        "    output_signature=(preprocessor.output_signature, tf.TensorSpec((), dtype=tf.float32)))\\\n",
        "    .cache().shuffle(buffer_size=200)\\\n",
        "    .padded_batch(batch_size=(128))\\\n",
        "    .prefetch(tf.data.experimental.AUTOTUNE)\n",
        "\n",
        "valid_dataset = tf.data.Dataset.from_generator(\n",
        "    lambda: ((preprocessor(row.smiles, train=False), row['oxidation'])\n",
        "            for i, row in data[data.smiles.isin(valid)].iterrows()),\n",
        "    output_signature=(preprocessor.output_signature, tf.TensorSpec((), dtype=tf.float32)))\\\n",
        "    .cache()\\\n",
        "    .padded_batch(batch_size=(64))\\\n",
        "    .prefetch(tf.data.experimental.AUTOTUNE)\n",
        "\n",
        "test_dataset = tf.data.Dataset.from_generator(\n",
        "  lambda: (preprocessor(smiles, train=False)\n",
        "          for smiles in test),\n",
        "  output_signature=preprocessor.output_signature)\\\n",
        "  .padded_batch(batch_size=len(test))\\\n",
        "  .prefetch(tf.data.experimental.AUTOTUNE)"
      ],
      "metadata": {
        "id": "H4s8CATE3j5X"
      },
      "execution_count": 12,
      "outputs": []
    },
    {
      "cell_type": "code",
      "source": [
        "# Step 2: Define the neural network model\n",
        "from tensorflow.keras import layers\n",
        "import nfp\n",
        "\n",
        "# Input layers\n",
        "atom = layers.Input(shape=[None], dtype=tf.int64, name='atom')\n",
        "bond = layers.Input(shape=[None], dtype=tf.int64, name='bond')\n",
        "connectivity = layers.Input(shape=[None, 2], dtype=tf.int64, name='connectivity')\n",
        "\n",
        "num_features = 8  # Controls the size of the model\n",
        "\n",
        "# Convert from a single integer defining the atom state to a vector\n",
        "# of weights associated with that class\n",
        "atom_state = layers.Embedding(preprocessor.atom_classes, num_features,\n",
        "                              name='atom_embedding', mask_zero=True)(atom)\n",
        "\n",
        "# Ditto with the bond state\n",
        "bond_state = layers.Embedding(preprocessor.bond_classes, num_features,\n",
        "                              name='bond_embedding', mask_zero=True)(bond)\n",
        "\n",
        "# Here we use our first nfp layer. This is an attention layer that looks at\n",
        "# the atom and bond states and reduces them to a single, graph-level vector. \n",
        "# mum_heads * units has to be the same dimension as the atom / bond dimension\n",
        "global_state = nfp.GlobalUpdate(units=8, num_heads=1)([atom_state, bond_state, connectivity])\n",
        "\n",
        "for _ in range(3):  # Do the message passing\n",
        "    new_bond_state = nfp.EdgeUpdate()([atom_state, bond_state, connectivity, global_state])\n",
        "    bond_state = layers.Add()([bond_state, new_bond_state])\n",
        "    \n",
        "    new_atom_state = nfp.NodeUpdate()([atom_state, bond_state, connectivity, global_state])\n",
        "    atom_state = layers.Add()([atom_state, new_atom_state])\n",
        "    \n",
        "    new_global_state = nfp.GlobalUpdate(units=8, num_heads=1)(\n",
        "        [atom_state, bond_state, connectivity, global_state]) \n",
        "    global_state = layers.Add()([global_state, new_global_state])\n",
        "\n",
        "# Since the final prediction is a single, molecule-level property (oxidation, reduction), we \n",
        "# reduce the last global state to a single prediction\n",
        "ox_prediction = layers.Dense(1)(global_state)\n",
        "\n",
        "# Construct the tf.keras model\n",
        "model = tf.keras.Model([atom, bond, connectivity], [ox_prediction])"
      ],
      "metadata": {
        "id": "6q6-jiDiFw1t"
      },
      "execution_count": 13,
      "outputs": []
    },
    {
      "cell_type": "code",
      "source": [
        "# Step 3: Compile and construct the GNNs\n",
        "model.compile(loss='mae', optimizer=tf.keras.optimizers.Adam(1E-3))\n",
        "model.fit(train_dataset, validation_data=valid_dataset, epochs=100)"
      ],
      "metadata": {
        "colab": {
          "base_uri": "https://localhost:8080/"
        },
        "id": "U1wf4ZVeIRlX",
        "outputId": "bb422212-0d19-40df-8ab1-dde51c1c1c47"
      },
      "execution_count": 14,
      "outputs": [
        {
          "output_type": "stream",
          "name": "stdout",
          "text": [
            "Epoch 1/100\n",
            "17/17 [==============================] - 21s 518ms/step - loss: 0.6791 - val_loss: 0.6601\n",
            "Epoch 2/100\n",
            "17/17 [==============================] - 0s 15ms/step - loss: 0.5657 - val_loss: 0.5792\n",
            "Epoch 3/100\n",
            "17/17 [==============================] - 0s 16ms/step - loss: 0.5163 - val_loss: 0.5426\n",
            "Epoch 4/100\n",
            "17/17 [==============================] - 0s 15ms/step - loss: 0.4912 - val_loss: 0.5394\n",
            "Epoch 5/100\n",
            "17/17 [==============================] - 0s 16ms/step - loss: 0.4775 - val_loss: 0.4963\n",
            "Epoch 6/100\n",
            "17/17 [==============================] - 0s 16ms/step - loss: 0.4612 - val_loss: 0.4696\n",
            "Epoch 7/100\n",
            "17/17 [==============================] - 0s 15ms/step - loss: 0.4369 - val_loss: 0.4771\n",
            "Epoch 8/100\n",
            "17/17 [==============================] - 0s 14ms/step - loss: 0.4393 - val_loss: 0.4644\n",
            "Epoch 9/100\n",
            "17/17 [==============================] - 0s 14ms/step - loss: 0.4101 - val_loss: 0.4406\n",
            "Epoch 10/100\n",
            "17/17 [==============================] - 0s 15ms/step - loss: 0.3944 - val_loss: 0.4580\n",
            "Epoch 11/100\n",
            "17/17 [==============================] - 0s 15ms/step - loss: 0.3803 - val_loss: 0.4346\n",
            "Epoch 12/100\n",
            "17/17 [==============================] - 0s 15ms/step - loss: 0.3661 - val_loss: 0.3922\n",
            "Epoch 13/100\n",
            "17/17 [==============================] - 0s 15ms/step - loss: 0.3513 - val_loss: 0.3967\n",
            "Epoch 14/100\n",
            "17/17 [==============================] - 0s 15ms/step - loss: 0.3332 - val_loss: 0.4024\n",
            "Epoch 15/100\n",
            "17/17 [==============================] - 0s 14ms/step - loss: 0.3446 - val_loss: 0.3609\n",
            "Epoch 16/100\n",
            "17/17 [==============================] - 0s 14ms/step - loss: 0.3325 - val_loss: 0.3503\n",
            "Epoch 17/100\n",
            "17/17 [==============================] - 0s 15ms/step - loss: 0.3068 - val_loss: 0.3782\n",
            "Epoch 18/100\n",
            "17/17 [==============================] - 0s 15ms/step - loss: 0.3204 - val_loss: 0.3547\n",
            "Epoch 19/100\n",
            "17/17 [==============================] - 0s 15ms/step - loss: 0.2935 - val_loss: 0.3346\n",
            "Epoch 20/100\n",
            "17/17 [==============================] - 0s 15ms/step - loss: 0.2768 - val_loss: 0.3316\n",
            "Epoch 21/100\n",
            "17/17 [==============================] - 0s 15ms/step - loss: 0.2720 - val_loss: 0.3187\n",
            "Epoch 22/100\n",
            "17/17 [==============================] - 0s 14ms/step - loss: 0.2663 - val_loss: 0.3039\n",
            "Epoch 23/100\n",
            "17/17 [==============================] - 0s 14ms/step - loss: 0.2515 - val_loss: 0.3063\n",
            "Epoch 24/100\n",
            "17/17 [==============================] - 0s 15ms/step - loss: 0.2417 - val_loss: 0.3173\n",
            "Epoch 25/100\n",
            "17/17 [==============================] - 0s 14ms/step - loss: 0.2413 - val_loss: 0.2870\n",
            "Epoch 26/100\n",
            "17/17 [==============================] - 0s 15ms/step - loss: 0.2247 - val_loss: 0.2842\n",
            "Epoch 27/100\n",
            "17/17 [==============================] - 0s 15ms/step - loss: 0.2226 - val_loss: 0.2723\n",
            "Epoch 28/100\n",
            "17/17 [==============================] - 0s 15ms/step - loss: 0.2188 - val_loss: 0.2768\n",
            "Epoch 29/100\n",
            "17/17 [==============================] - 0s 14ms/step - loss: 0.2046 - val_loss: 0.2640\n",
            "Epoch 30/100\n",
            "17/17 [==============================] - 0s 15ms/step - loss: 0.2028 - val_loss: 0.2646\n",
            "Epoch 31/100\n",
            "17/17 [==============================] - 0s 14ms/step - loss: 0.2134 - val_loss: 0.2771\n",
            "Epoch 32/100\n",
            "17/17 [==============================] - 0s 14ms/step - loss: 0.2041 - val_loss: 0.2712\n",
            "Epoch 33/100\n",
            "17/17 [==============================] - 0s 14ms/step - loss: 0.1907 - val_loss: 0.2510\n",
            "Epoch 34/100\n",
            "17/17 [==============================] - 0s 15ms/step - loss: 0.1843 - val_loss: 0.2687\n",
            "Epoch 35/100\n",
            "17/17 [==============================] - 0s 15ms/step - loss: 0.1836 - val_loss: 0.2448\n",
            "Epoch 36/100\n",
            "17/17 [==============================] - 0s 14ms/step - loss: 0.1798 - val_loss: 0.2548\n",
            "Epoch 37/100\n",
            "17/17 [==============================] - 0s 14ms/step - loss: 0.1837 - val_loss: 0.2441\n",
            "Epoch 38/100\n",
            "17/17 [==============================] - 0s 15ms/step - loss: 0.1711 - val_loss: 0.2424\n",
            "Epoch 39/100\n",
            "17/17 [==============================] - 0s 17ms/step - loss: 0.1710 - val_loss: 0.2768\n",
            "Epoch 40/100\n",
            "17/17 [==============================] - 0s 15ms/step - loss: 0.1819 - val_loss: 0.2448\n",
            "Epoch 41/100\n",
            "17/17 [==============================] - 0s 15ms/step - loss: 0.1751 - val_loss: 0.2478\n",
            "Epoch 42/100\n",
            "17/17 [==============================] - 0s 15ms/step - loss: 0.1731 - val_loss: 0.2516\n",
            "Epoch 43/100\n",
            "17/17 [==============================] - 0s 14ms/step - loss: 0.1714 - val_loss: 0.2463\n",
            "Epoch 44/100\n",
            "17/17 [==============================] - 0s 14ms/step - loss: 0.1730 - val_loss: 0.2461\n",
            "Epoch 45/100\n",
            "17/17 [==============================] - 0s 15ms/step - loss: 0.1715 - val_loss: 0.2569\n",
            "Epoch 46/100\n",
            "17/17 [==============================] - 0s 14ms/step - loss: 0.1630 - val_loss: 0.2526\n",
            "Epoch 47/100\n",
            "17/17 [==============================] - 0s 15ms/step - loss: 0.1712 - val_loss: 0.2456\n",
            "Epoch 48/100\n",
            "17/17 [==============================] - 0s 15ms/step - loss: 0.1592 - val_loss: 0.2419\n",
            "Epoch 49/100\n",
            "17/17 [==============================] - 0s 17ms/step - loss: 0.1572 - val_loss: 0.2363\n",
            "Epoch 50/100\n",
            "17/17 [==============================] - 0s 15ms/step - loss: 0.1563 - val_loss: 0.2376\n",
            "Epoch 51/100\n",
            "17/17 [==============================] - 0s 15ms/step - loss: 0.1538 - val_loss: 0.2230\n",
            "Epoch 52/100\n",
            "17/17 [==============================] - 0s 15ms/step - loss: 0.1513 - val_loss: 0.2243\n",
            "Epoch 53/100\n",
            "17/17 [==============================] - 0s 19ms/step - loss: 0.1480 - val_loss: 0.2339\n",
            "Epoch 54/100\n",
            "17/17 [==============================] - 0s 16ms/step - loss: 0.1542 - val_loss: 0.2359\n",
            "Epoch 55/100\n",
            "17/17 [==============================] - 0s 24ms/step - loss: 0.1518 - val_loss: 0.2270\n",
            "Epoch 56/100\n",
            "17/17 [==============================] - 0s 20ms/step - loss: 0.1409 - val_loss: 0.2269\n",
            "Epoch 57/100\n",
            "17/17 [==============================] - 0s 23ms/step - loss: 0.1379 - val_loss: 0.2249\n",
            "Epoch 58/100\n",
            "17/17 [==============================] - 1s 29ms/step - loss: 0.1350 - val_loss: 0.2274\n",
            "Epoch 59/100\n",
            "17/17 [==============================] - 1s 30ms/step - loss: 0.1414 - val_loss: 0.2357\n",
            "Epoch 60/100\n",
            "17/17 [==============================] - 0s 25ms/step - loss: 0.1543 - val_loss: 0.2221\n",
            "Epoch 61/100\n",
            "17/17 [==============================] - 0s 25ms/step - loss: 0.1439 - val_loss: 0.2233\n",
            "Epoch 62/100\n",
            "17/17 [==============================] - 0s 26ms/step - loss: 0.1504 - val_loss: 0.2395\n",
            "Epoch 63/100\n",
            "17/17 [==============================] - 0s 25ms/step - loss: 0.1500 - val_loss: 0.2290\n",
            "Epoch 64/100\n",
            "17/17 [==============================] - 0s 22ms/step - loss: 0.1381 - val_loss: 0.2199\n",
            "Epoch 65/100\n",
            "17/17 [==============================] - 0s 24ms/step - loss: 0.1281 - val_loss: 0.2332\n",
            "Epoch 66/100\n",
            "17/17 [==============================] - 0s 24ms/step - loss: 0.1366 - val_loss: 0.2319\n",
            "Epoch 67/100\n",
            "17/17 [==============================] - 0s 21ms/step - loss: 0.1392 - val_loss: 0.2133\n",
            "Epoch 68/100\n",
            "17/17 [==============================] - 0s 28ms/step - loss: 0.1356 - val_loss: 0.2186\n",
            "Epoch 69/100\n",
            "17/17 [==============================] - 0s 16ms/step - loss: 0.1244 - val_loss: 0.2103\n",
            "Epoch 70/100\n",
            "17/17 [==============================] - 0s 14ms/step - loss: 0.1243 - val_loss: 0.2280\n",
            "Epoch 71/100\n",
            "17/17 [==============================] - 0s 16ms/step - loss: 0.1295 - val_loss: 0.2116\n",
            "Epoch 72/100\n",
            "17/17 [==============================] - 0s 16ms/step - loss: 0.1232 - val_loss: 0.2195\n",
            "Epoch 73/100\n",
            "17/17 [==============================] - 0s 14ms/step - loss: 0.1307 - val_loss: 0.2193\n",
            "Epoch 74/100\n",
            "17/17 [==============================] - 0s 14ms/step - loss: 0.1336 - val_loss: 0.2129\n",
            "Epoch 75/100\n",
            "17/17 [==============================] - 0s 15ms/step - loss: 0.1420 - val_loss: 0.2494\n",
            "Epoch 76/100\n",
            "17/17 [==============================] - 0s 14ms/step - loss: 0.1596 - val_loss: 0.2277\n",
            "Epoch 77/100\n",
            "17/17 [==============================] - 0s 14ms/step - loss: 0.1352 - val_loss: 0.2266\n",
            "Epoch 78/100\n",
            "17/17 [==============================] - 0s 15ms/step - loss: 0.1298 - val_loss: 0.2188\n",
            "Epoch 79/100\n",
            "17/17 [==============================] - 0s 15ms/step - loss: 0.1269 - val_loss: 0.2065\n",
            "Epoch 80/100\n",
            "17/17 [==============================] - 0s 15ms/step - loss: 0.1249 - val_loss: 0.2113\n",
            "Epoch 81/100\n",
            "17/17 [==============================] - 0s 15ms/step - loss: 0.1234 - val_loss: 0.2126\n",
            "Epoch 82/100\n",
            "17/17 [==============================] - 0s 15ms/step - loss: 0.1179 - val_loss: 0.2098\n",
            "Epoch 83/100\n",
            "17/17 [==============================] - 0s 15ms/step - loss: 0.1213 - val_loss: 0.2053\n",
            "Epoch 84/100\n",
            "17/17 [==============================] - 0s 15ms/step - loss: 0.1179 - val_loss: 0.2012\n",
            "Epoch 85/100\n",
            "17/17 [==============================] - 0s 15ms/step - loss: 0.1127 - val_loss: 0.2144\n",
            "Epoch 86/100\n",
            "17/17 [==============================] - 0s 15ms/step - loss: 0.1160 - val_loss: 0.2056\n",
            "Epoch 87/100\n",
            "17/17 [==============================] - 0s 14ms/step - loss: 0.1122 - val_loss: 0.2084\n",
            "Epoch 88/100\n",
            "17/17 [==============================] - 0s 16ms/step - loss: 0.1154 - val_loss: 0.2137\n",
            "Epoch 89/100\n",
            "17/17 [==============================] - 0s 15ms/step - loss: 0.1184 - val_loss: 0.2166\n",
            "Epoch 90/100\n",
            "17/17 [==============================] - 0s 15ms/step - loss: 0.1237 - val_loss: 0.2145\n",
            "Epoch 91/100\n",
            "17/17 [==============================] - 0s 14ms/step - loss: 0.1259 - val_loss: 0.2196\n",
            "Epoch 92/100\n",
            "17/17 [==============================] - 0s 15ms/step - loss: 0.1333 - val_loss: 0.2039\n",
            "Epoch 93/100\n",
            "17/17 [==============================] - 0s 15ms/step - loss: 0.1080 - val_loss: 0.2084\n",
            "Epoch 94/100\n",
            "17/17 [==============================] - 0s 15ms/step - loss: 0.1097 - val_loss: 0.1986\n",
            "Epoch 95/100\n",
            "17/17 [==============================] - 0s 16ms/step - loss: 0.1054 - val_loss: 0.2010\n",
            "Epoch 96/100\n",
            "17/17 [==============================] - 0s 15ms/step - loss: 0.1099 - val_loss: 0.2110\n",
            "Epoch 97/100\n",
            "17/17 [==============================] - 0s 15ms/step - loss: 0.1085 - val_loss: 0.2087\n",
            "Epoch 98/100\n",
            "17/17 [==============================] - 0s 15ms/step - loss: 0.1074 - val_loss: 0.2051\n",
            "Epoch 99/100\n",
            "17/17 [==============================] - 0s 15ms/step - loss: 0.1044 - val_loss: 0.2123\n",
            "Epoch 100/100\n",
            "17/17 [==============================] - 0s 14ms/step - loss: 0.1099 - val_loss: 0.2183\n"
          ]
        },
        {
          "output_type": "execute_result",
          "data": {
            "text/plain": [
              "<keras.callbacks.History at 0x7fab95c90cd0>"
            ]
          },
          "metadata": {},
          "execution_count": 14
        }
      ]
    },
    {
      "cell_type": "markdown",
      "source": [
        "Testing Graph Neural Networks (GNNs)\n",
        "\n",
        "*   Step 1: Predict using the built model\n",
        "*   Step 2: Plot to see test set\n",
        "\n",
        "\n",
        "\n"
      ],
      "metadata": {
        "id": "q0nvROBtXjhF"
      }
    },
    {
      "cell_type": "code",
      "source": [
        "# Step 1: Predict using the built model\n",
        "test_predictions = model.predict(test_dataset)\n",
        "test_db_values = data.set_index('smiles').reindex(test)['oxidation'].values"
      ],
      "metadata": {
        "id": "pFWKuKd9IbvW"
      },
      "execution_count": 15,
      "outputs": []
    },
    {
      "cell_type": "code",
      "source": [
        "# Step 2: Plot to see test set\n",
        "import matplotlib.pyplot as plt\n",
        "import seaborn as sns\n",
        "from sklearn.metrics import r2_score\n",
        "import sklearn.metrics as metrics\n",
        "\n",
        "fig = plt.subplots()\n",
        "\n",
        "ax1 = sns.scatterplot(test_db_values,test_predictions.flatten(),s=30,marker='o',color='b',alpha=0.5)\n",
        "ax1.set_xlabel(r'Calculated',fontsize=10)\n",
        "ax1.set_ylabel(r'Predicted',fontsize=10)\n",
        "ax1.grid(linestyle='--', linewidth=1)\n",
        "\n",
        "mae = metrics.mean_absolute_error(test_db_values,test_predictions.flatten())\n",
        "r2 = metrics.r2_score(test_db_values,test_predictions.flatten())\n",
        "\n",
        "plt.annotate(f\"$R^2$ = {round(r2,1)} \\nMAE = {round(mae,1)} \", xy=(1.5, -1.5), fontsize=10)"
      ],
      "metadata": {
        "colab": {
          "base_uri": "https://localhost:8080/",
          "height": 350
        },
        "id": "J4hXJ09zX2KT",
        "outputId": "20ae88f5-e262-40c2-cc52-3a9e5f745a95"
      },
      "execution_count": 19,
      "outputs": [
        {
          "output_type": "stream",
          "name": "stderr",
          "text": [
            "/usr/local/lib/python3.7/dist-packages/seaborn/_decorators.py:43: FutureWarning: Pass the following variables as keyword args: x, y. From version 0.12, the only valid positional argument will be `data`, and passing other arguments without an explicit keyword will result in an error or misinterpretation.\n",
            "  FutureWarning\n"
          ]
        },
        {
          "output_type": "execute_result",
          "data": {
            "text/plain": [
              "Text(1.5, -1.5, '$R^2$ = 0.8 \\nMAE = 0.2 ')"
            ]
          },
          "metadata": {},
          "execution_count": 19
        },
        {
          "output_type": "display_data",
          "data": {
            "text/plain": [
              "<Figure size 432x288 with 1 Axes>"
            ],
            "image/png": "[encoded data removed]"
          },
          "metadata": {
            "needs_background": "light"
          }
        }
      ]
    },
    {
      "cell_type": "code",
      "source": [
        ""
      ],
      "metadata": {
        "id": "fBZG4nL6Z-lD"
      },
      "execution_count": null,
      "outputs": []
    }
  ]
}